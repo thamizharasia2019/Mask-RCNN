{
 "cells": [
  {
   "cell_type": "code",
   "execution_count": null,
   "metadata": {},
   "outputs": [],
   "source": [
    "import json\n",
    "from PIL import Image\n",
    "# plant_book_mask_image = Image.open('./cells/carcinoma_in_situ/149143370-149143378-001-d.bmp')\n",
    "# bottle_book_mask_image = Image.open('./cells/carcinoma_in_situ/149146886-149146936-002-d.bmp')\n",
    "\n",
    "import cv2\n",
    "img=cv2.imread('./cells/carcinoma_in_situ/149143370-149143378-001-d.bmp')\n",
    "img1=cv2.imread('./cells/carcinoma_in_situ/149146886-149146936-002-d.bmp')\n",
    "\n",
    "w,h=img.shape[:2]\n",
    "\n",
    "imag=img\n",
    "for i in range(w):\n",
    "    for j in range(h):\n",
    "        if img[i,j,2]==255:\n",
    "            imag[i,j,2]=0\n",
    "        else:\n",
    "            imag[i,j,0]=255\n",
    "            imag[i,j,1]=255\n",
    "            imag[i,j,2]=255\n",
    "       \n",
    "    \n",
    "imag1=imag[:,:,0]  \n",
    "cv2.imshow('titl',imag1)\n",
    "cv2.waitKey(0)\n",
    "cv2.destroyAllWindows()\n",
    "cv2.imwrite('maskimage.jpg',imag)"
   ]
  },
  {
   "cell_type": "code",
   "execution_count": null,
   "metadata": {},
   "outputs": [],
   "source": [
    "import cv2\n",
    "img=cv2.imread('./cervic/carcinoma_in_situ_seg/149143370-149143378-001-d.bmp')\n",
    "img1=cv2.imread('./cervic/carcinoma_in_situ_seg/149146886-149146936-002-d.bmp')\n",
    "\n",
    "w,h=img.shape[:2]\n",
    "\n",
    "imag=img\n",
    "for i in range(w):\n",
    "    for j in range(h):\n",
    "        if img[i,j,2]==255:\n",
    "            imag[i,j,2]=0\n",
    "        else:\n",
    "            imag[i,j,0]=255\n",
    "            imag[i,j,1]=255\n",
    "            imag[i,j,2]=255\n",
    "       \n"
   ]
  },
  {
   "cell_type": "code",
   "execution_count": null,
   "metadata": {},
   "outputs": [],
   "source": [
    "\n",
    "\n",
    "img_grey= cv2.cvtColor(imag,cv2.COLOR_BGR2GRAY)\n",
    "#set a thresh\n",
    "thresh = 100\n",
    "#get threshold image\n",
    "ret,thresh_img = cv2.threshold(img_grey, thresh, 255, cv2.THRESH_BINARY)\n",
    "#find contours\n",
    "contours, hierarchy = cv2.findContours(thresh_img, cv2.RETR_TREE, cv2.CHAIN_APPROX_SIMPLE)\n",
    "imag2=cv2.drawContours(imag, contours, -1, (0,255,0), 3)\n",
    "\n",
    "cv2.imshow('binary',thresh_img)\n",
    "cv2.waitKey(0)\n",
    "cv2.destroyAllWindows()\n",
    "cv2.imwrite('binaryimage.jpg',thresh_img)\n",
    "\n",
    "\n",
    "cv2.imshow('contour',imag2)\n",
    "cv2.waitKey(0)\n",
    "cv2.destroyAllWindows()\n",
    "cv2.imwrite('contimage.jpg',imag2)"
   ]
  },
  {
   "cell_type": "code",
   "execution_count": null,
   "metadata": {},
   "outputs": [],
   "source": [
    "print(thresh_img   )"
   ]
  },
  {
   "cell_type": "code",
   "execution_count": null,
   "metadata": {},
   "outputs": [],
   "source": [
    "contours, hierarchy = cv2.findContours(imag1, cv2.RETR_TREE, cv2.CHAIN_APPROX_SIMPLE)\n",
    "imag2=cv2.drawContours(img, contours, -1, (0,255,0), 3)\n",
    "cv2.imshow('con',imag2)\n",
    "cv2.waitKey(0)\n",
    "cv2.destroyAllWindows()\n",
    "cv2.imwrite('contourimage.jpg',imag2)"
   ]
  },
  {
   "cell_type": "code",
   "execution_count": null,
   "metadata": {},
   "outputs": [],
   "source": [
    "print(contours)"
   ]
  },
  {
   "cell_type": "code",
   "execution_count": null,
   "metadata": {},
   "outputs": [],
   "source": [
    "path='./cervic/light_dysplastic_seg/'\n",
    "\n",
    "import os\n",
    "print(os.listdir(path))\n",
    "for filename in os.listdir(path):  \n",
    "    if filename.endswith('.BMP'):\n",
    "        os.remove(path+filename)\n",
    "        print(filename +' is removed')\n",
    "    else:\n",
    "        continue\n",
    "                "
   ]
  },
  {
   "cell_type": "code",
   "execution_count": null,
   "metadata": {},
   "outputs": [],
   "source": [
    "# cv2.imshow('title',imag)\n",
    "# cv2.waitKey(0)"
   ]
  },
  {
   "cell_type": "code",
   "execution_count": null,
   "metadata": {},
   "outputs": [],
   "source": [
    "# binary image creation\n",
    "path='./cervic/severe_dysplastic_seg/'\n",
    "\n",
    "path1='./cervic/severe_dysplastic_bin/'\n",
    "\n",
    "import os\n",
    "import cv2\n",
    "\n",
    "\n",
    "# print(os.listdir(path))\n",
    "for filename in os.listdir(path):  \n",
    "\n",
    "        img=cv2.imread(path+filename)\n",
    "        w,h=img.shape[:2]\n",
    "\n",
    "        imag=img\n",
    "        for i in range(w):\n",
    "            for j in range(h):\n",
    "                if img[i,j,2]==255:\n",
    "                    imag[i,j,2]=0\n",
    "                else:\n",
    "                    imag[i,j,0]=255\n",
    "                    imag[i,j,1]=255\n",
    "                    imag[i,j,2]=255\n",
    "\n",
    "        img_grey= cv2.cvtColor(imag,cv2.COLOR_BGR2GRAY)\n",
    "        #set a thresh\n",
    "        thresh = 100\n",
    "        #get threshold image\n",
    "        ret,thresh_img = cv2.threshold(img_grey, thresh, 255, cv2.THRESH_BINARY)\n",
    "# #find contours\n",
    "# contours, hierarchy = cv2.findContours(thresh_img, cv2.RETR_TREE, cv2.CHAIN_APPROX_SIMPLE)\n",
    "# imag2=cv2.drawContours(imag, contours, -1, (0,255,0), 3)\n",
    "\n",
    "# cv2.imshow('binary',thresh_img)\n",
    "# cv2.waitKey(0)\n",
    "# cv2.destroyAllWindows()\n",
    "        cv2.imwrite(path1+filename,thresh_img)\n",
    "        print(path1+filename +' is written')\n",
    "    \n",
    "    \n"
   ]
  },
  {
   "cell_type": "code",
   "execution_count": null,
   "metadata": {},
   "outputs": [],
   "source": []
  }
 ],
 "metadata": {
  "kernelspec": {
   "display_name": "Python 3",
   "language": "python",
   "name": "python3"
  },
  "language_info": {
   "codemirror_mode": {
    "name": "ipython",
    "version": 3
   },
   "file_extension": ".py",
   "mimetype": "text/x-python",
   "name": "python",
   "nbconvert_exporter": "python",
   "pygments_lexer": "ipython3",
   "version": "3.7.4"
  }
 },
 "nbformat": 4,
 "nbformat_minor": 2
}
